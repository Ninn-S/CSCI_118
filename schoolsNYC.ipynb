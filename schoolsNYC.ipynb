{
 "cells": [
  {
   "cell_type": "code",
   "execution_count": 450,
   "id": "39c51f12-d4f9-4051-a8e0-a297cccaab49",
   "metadata": {},
   "outputs": [],
   "source": [
    "import pandas as pd"
   ]
  },
  {
   "cell_type": "code",
   "execution_count": 451,
   "id": "d996f8b6-74ab-4100-968c-63785dec1ddc",
   "metadata": {},
   "outputs": [],
   "source": [
    "import matplotlib.pyplot as plt"
   ]
  },
  {
   "cell_type": "code",
   "execution_count": 452,
   "id": "b8a725d1-fb75-48c1-9738-18461e173f6f",
   "metadata": {},
   "outputs": [],
   "source": [
    "school_df = pd.read_csv(\"https://raw.githubusercontent.com/CunyLaguardiaDataAnalytics/datasets/master/2014-15_To_2016-17_School-_Level_NYC_Regents_Report_For_All_Variables.csv\")"
   ]
  },
  {
   "cell_type": "code",
   "execution_count": 453,
   "id": "9299b2a5-beae-4c95-b048-bf78c1897998",
   "metadata": {},
   "outputs": [
    {
     "data": {
      "text/html": [
       "<div>\n",
       "<style scoped>\n",
       "    .dataframe tbody tr th:only-of-type {\n",
       "        vertical-align: middle;\n",
       "    }\n",
       "\n",
       "    .dataframe tbody tr th {\n",
       "        vertical-align: top;\n",
       "    }\n",
       "\n",
       "    .dataframe thead th {\n",
       "        text-align: right;\n",
       "    }\n",
       "</style>\n",
       "<table border=\"1\" class=\"dataframe\">\n",
       "  <thead>\n",
       "    <tr style=\"text-align: right;\">\n",
       "      <th></th>\n",
       "      <th>School DBN</th>\n",
       "      <th>School Name</th>\n",
       "      <th>School Level</th>\n",
       "      <th>Regents Exam</th>\n",
       "      <th>Year</th>\n",
       "      <th>Total Tested</th>\n",
       "      <th>Mean Score</th>\n",
       "      <th>Number Scoring Below 65</th>\n",
       "      <th>Percent Scoring Below 65</th>\n",
       "      <th>Number Scoring 65 or Above</th>\n",
       "      <th>Percent Scoring 65 or Above</th>\n",
       "      <th>Number Scoring 80 or Above</th>\n",
       "      <th>Percent Scoring 80 or Above</th>\n",
       "      <th>Number Scoring CR</th>\n",
       "      <th>Percent Scoring CR</th>\n",
       "    </tr>\n",
       "  </thead>\n",
       "  <tbody>\n",
       "    <tr>\n",
       "      <th>0</th>\n",
       "      <td>01M034</td>\n",
       "      <td>P.S. 034 Franklin D. Roosevelt</td>\n",
       "      <td>K-8</td>\n",
       "      <td>Common Core Algebra</td>\n",
       "      <td>2017</td>\n",
       "      <td>4</td>\n",
       "      <td>s</td>\n",
       "      <td>s</td>\n",
       "      <td>s</td>\n",
       "      <td>s</td>\n",
       "      <td>s</td>\n",
       "      <td>s</td>\n",
       "      <td>s</td>\n",
       "      <td>na</td>\n",
       "      <td>na</td>\n",
       "    </tr>\n",
       "    <tr>\n",
       "      <th>1</th>\n",
       "      <td>01M034</td>\n",
       "      <td>P.S. 034 Franklin D. Roosevelt</td>\n",
       "      <td>K-8</td>\n",
       "      <td>Living Environment</td>\n",
       "      <td>2015</td>\n",
       "      <td>16</td>\n",
       "      <td>77.9</td>\n",
       "      <td>1</td>\n",
       "      <td>6.3</td>\n",
       "      <td>15</td>\n",
       "      <td>93.8</td>\n",
       "      <td>7</td>\n",
       "      <td>43.8</td>\n",
       "      <td>na</td>\n",
       "      <td>na</td>\n",
       "    </tr>\n",
       "    <tr>\n",
       "      <th>2</th>\n",
       "      <td>01M034</td>\n",
       "      <td>P.S. 034 Franklin D. Roosevelt</td>\n",
       "      <td>K-8</td>\n",
       "      <td>Living Environment</td>\n",
       "      <td>2016</td>\n",
       "      <td>9</td>\n",
       "      <td>74</td>\n",
       "      <td>1</td>\n",
       "      <td>11.1</td>\n",
       "      <td>8</td>\n",
       "      <td>88.9</td>\n",
       "      <td>2</td>\n",
       "      <td>22.2</td>\n",
       "      <td>na</td>\n",
       "      <td>na</td>\n",
       "    </tr>\n",
       "    <tr>\n",
       "      <th>3</th>\n",
       "      <td>01M140</td>\n",
       "      <td>P.S. 140 Nathan Straus</td>\n",
       "      <td>K-8</td>\n",
       "      <td>Common Core Algebra</td>\n",
       "      <td>2016</td>\n",
       "      <td>3</td>\n",
       "      <td>s</td>\n",
       "      <td>s</td>\n",
       "      <td>s</td>\n",
       "      <td>s</td>\n",
       "      <td>s</td>\n",
       "      <td>s</td>\n",
       "      <td>s</td>\n",
       "      <td>na</td>\n",
       "      <td>na</td>\n",
       "    </tr>\n",
       "    <tr>\n",
       "      <th>4</th>\n",
       "      <td>01M140</td>\n",
       "      <td>P.S. 140 Nathan Straus</td>\n",
       "      <td>K-8</td>\n",
       "      <td>Common Core Algebra</td>\n",
       "      <td>2017</td>\n",
       "      <td>2</td>\n",
       "      <td>s</td>\n",
       "      <td>s</td>\n",
       "      <td>s</td>\n",
       "      <td>s</td>\n",
       "      <td>s</td>\n",
       "      <td>s</td>\n",
       "      <td>s</td>\n",
       "      <td>na</td>\n",
       "      <td>na</td>\n",
       "    </tr>\n",
       "  </tbody>\n",
       "</table>\n",
       "</div>"
      ],
      "text/plain": [
       "  School DBN                     School Name School Level  \\\n",
       "0     01M034  P.S. 034 Franklin D. Roosevelt          K-8   \n",
       "1     01M034  P.S. 034 Franklin D. Roosevelt          K-8   \n",
       "2     01M034  P.S. 034 Franklin D. Roosevelt          K-8   \n",
       "3     01M140          P.S. 140 Nathan Straus          K-8   \n",
       "4     01M140          P.S. 140 Nathan Straus          K-8   \n",
       "\n",
       "          Regents Exam  Year  Total Tested Mean Score Number Scoring Below 65  \\\n",
       "0  Common Core Algebra  2017             4          s                       s   \n",
       "1   Living Environment  2015            16       77.9                       1   \n",
       "2   Living Environment  2016             9         74                       1   \n",
       "3  Common Core Algebra  2016             3          s                       s   \n",
       "4  Common Core Algebra  2017             2          s                       s   \n",
       "\n",
       "  Percent Scoring Below 65 Number Scoring 65 or Above  \\\n",
       "0                        s                          s   \n",
       "1                      6.3                         15   \n",
       "2                     11.1                          8   \n",
       "3                        s                          s   \n",
       "4                        s                          s   \n",
       "\n",
       "  Percent Scoring 65 or Above Number Scoring 80 or Above  \\\n",
       "0                           s                          s   \n",
       "1                        93.8                          7   \n",
       "2                        88.9                          2   \n",
       "3                           s                          s   \n",
       "4                           s                          s   \n",
       "\n",
       "  Percent Scoring 80 or Above Number Scoring CR Percent Scoring CR  \n",
       "0                           s                na                 na  \n",
       "1                        43.8                na                 na  \n",
       "2                        22.2                na                 na  \n",
       "3                           s                na                 na  \n",
       "4                           s                na                 na  "
      ]
     },
     "execution_count": 453,
     "metadata": {},
     "output_type": "execute_result"
    }
   ],
   "source": [
    "#display the first 5 rows\n",
    "school_df.head()"
   ]
  },
  {
   "cell_type": "markdown",
   "id": "dc6cac7f-a913-421d-888e-21a9d1204e62",
   "metadata": {},
   "source": [
    "## Describe Data"
   ]
  },
  {
   "cell_type": "code",
   "execution_count": 455,
   "id": "01e9ff03-2067-4d9f-8afc-4daf1daf0757",
   "metadata": {},
   "outputs": [
    {
     "name": "stdout",
     "output_type": "stream",
     "text": [
      "<class 'pandas.core.frame.DataFrame'>\n",
      "RangeIndex: 212331 entries, 0 to 212330\n",
      "Data columns (total 15 columns):\n",
      " #   Column                       Non-Null Count   Dtype \n",
      "---  ------                       --------------   ----- \n",
      " 0   School DBN                   212331 non-null  object\n",
      " 1   School Name                  212331 non-null  object\n",
      " 2   School Level                 212331 non-null  object\n",
      " 3   Regents Exam                 212321 non-null  object\n",
      " 4   Year                         212331 non-null  int64 \n",
      " 5   Total Tested                 212331 non-null  int64 \n",
      " 6   Mean Score                   212331 non-null  object\n",
      " 7   Number Scoring Below 65      212331 non-null  object\n",
      " 8   Percent Scoring Below 65     212331 non-null  object\n",
      " 9   Number Scoring 65 or Above   212331 non-null  object\n",
      " 10  Percent Scoring 65 or Above  212331 non-null  object\n",
      " 11  Number Scoring 80 or Above   212331 non-null  object\n",
      " 12  Percent Scoring 80 or Above  212331 non-null  object\n",
      " 13  Number Scoring CR            212331 non-null  object\n",
      " 14  Percent Scoring CR           212331 non-null  object\n",
      "dtypes: int64(2), object(13)\n",
      "memory usage: 24.3+ MB\n"
     ]
    }
   ],
   "source": [
    "school_df.info()"
   ]
  },
  {
   "cell_type": "code",
   "execution_count": 456,
   "id": "d88577e8-d807-4a10-bd50-ecfda5fa9c7f",
   "metadata": {},
   "outputs": [
    {
     "data": {
      "text/plain": [
       "(212331, 15)"
      ]
     },
     "execution_count": 456,
     "metadata": {},
     "output_type": "execute_result"
    }
   ],
   "source": [
    "#there are 212331 rows and 15 columns in the DataFrame\n",
    "school_df.shape"
   ]
  },
  {
   "cell_type": "code",
   "execution_count": 457,
   "id": "84521376-e086-4b10-8e1d-0c26920ab750",
   "metadata": {},
   "outputs": [
    {
     "data": {
      "text/plain": [
       "Index(['School DBN', 'School Name', 'School Level', 'Regents Exam', 'Year',\n",
       "       'Total Tested', 'Mean Score', 'Number Scoring Below 65',\n",
       "       'Percent Scoring Below 65', 'Number Scoring 65 or Above',\n",
       "       'Percent Scoring 65 or Above', 'Number Scoring 80 or Above',\n",
       "       'Percent Scoring 80 or Above', 'Number Scoring CR',\n",
       "       'Percent Scoring CR'],\n",
       "      dtype='object')"
      ]
     },
     "execution_count": 457,
     "metadata": {},
     "output_type": "execute_result"
    }
   ],
   "source": [
    "#print column names of the DataFrame\n",
    "school_df.columns"
   ]
  },
  {
   "cell_type": "code",
   "execution_count": 458,
   "id": "b3211c8b-3b69-4ccd-812a-0962a6189d52",
   "metadata": {},
   "outputs": [
    {
     "data": {
      "text/plain": [
       "School DBN                     object\n",
       "School Name                    object\n",
       "School Level                   object\n",
       "Regents Exam                   object\n",
       "Year                            int64\n",
       "Total Tested                    int64\n",
       "Mean Score                     object\n",
       "Number Scoring Below 65        object\n",
       "Percent Scoring Below 65       object\n",
       "Number Scoring 65 or Above     object\n",
       "Percent Scoring 65 or Above    object\n",
       "Number Scoring 80 or Above     object\n",
       "Percent Scoring 80 or Above    object\n",
       "Number Scoring CR              object\n",
       "Percent Scoring CR             object\n",
       "dtype: object"
      ]
     },
     "execution_count": 458,
     "metadata": {},
     "output_type": "execute_result"
    }
   ],
   "source": [
    "#data types \n",
    "school_df.dtypes"
   ]
  },
  {
   "cell_type": "code",
   "execution_count": 459,
   "id": "05f8848f-21e2-4dae-8aea-607bd16cb13f",
   "metadata": {},
   "outputs": [
    {
     "data": {
      "text/html": [
       "<div>\n",
       "<style scoped>\n",
       "    .dataframe tbody tr th:only-of-type {\n",
       "        vertical-align: middle;\n",
       "    }\n",
       "\n",
       "    .dataframe tbody tr th {\n",
       "        vertical-align: top;\n",
       "    }\n",
       "\n",
       "    .dataframe thead th {\n",
       "        text-align: right;\n",
       "    }\n",
       "</style>\n",
       "<table border=\"1\" class=\"dataframe\">\n",
       "  <thead>\n",
       "    <tr style=\"text-align: right;\">\n",
       "      <th></th>\n",
       "      <th>Year</th>\n",
       "      <th>Total Tested</th>\n",
       "    </tr>\n",
       "  </thead>\n",
       "  <tbody>\n",
       "    <tr>\n",
       "      <th>count</th>\n",
       "      <td>212331.000000</td>\n",
       "      <td>212331.000000</td>\n",
       "    </tr>\n",
       "    <tr>\n",
       "      <th>mean</th>\n",
       "      <td>2015.956069</td>\n",
       "      <td>49.364200</td>\n",
       "    </tr>\n",
       "    <tr>\n",
       "      <th>std</th>\n",
       "      <td>0.799726</td>\n",
       "      <td>93.023576</td>\n",
       "    </tr>\n",
       "    <tr>\n",
       "      <th>min</th>\n",
       "      <td>2015.000000</td>\n",
       "      <td>1.000000</td>\n",
       "    </tr>\n",
       "    <tr>\n",
       "      <th>25%</th>\n",
       "      <td>2015.000000</td>\n",
       "      <td>5.000000</td>\n",
       "    </tr>\n",
       "    <tr>\n",
       "      <th>50%</th>\n",
       "      <td>2016.000000</td>\n",
       "      <td>20.000000</td>\n",
       "    </tr>\n",
       "    <tr>\n",
       "      <th>75%</th>\n",
       "      <td>2017.000000</td>\n",
       "      <td>57.000000</td>\n",
       "    </tr>\n",
       "    <tr>\n",
       "      <th>max</th>\n",
       "      <td>2017.000000</td>\n",
       "      <td>1729.000000</td>\n",
       "    </tr>\n",
       "  </tbody>\n",
       "</table>\n",
       "</div>"
      ],
      "text/plain": [
       "                Year   Total Tested\n",
       "count  212331.000000  212331.000000\n",
       "mean     2015.956069      49.364200\n",
       "std         0.799726      93.023576\n",
       "min      2015.000000       1.000000\n",
       "25%      2015.000000       5.000000\n",
       "50%      2016.000000      20.000000\n",
       "75%      2017.000000      57.000000\n",
       "max      2017.000000    1729.000000"
      ]
     },
     "execution_count": 459,
     "metadata": {},
     "output_type": "execute_result"
    }
   ],
   "source": [
    "#decribe numeric data (year doesn't make much sense)\n",
    "school_df.describe()"
   ]
  },
  {
   "cell_type": "code",
   "execution_count": 460,
   "id": "c2ce07c1-ab89-4cf4-9390-9bf1329e511a",
   "metadata": {},
   "outputs": [
    {
     "data": {
      "text/plain": [
       "Year            2015.956069\n",
       "Total Tested      49.364200\n",
       "dtype: float64"
      ]
     },
     "execution_count": 460,
     "metadata": {},
     "output_type": "execute_result"
    }
   ],
   "source": [
    "#Average/mean for numeric fields \n",
    "school_df.mean(numeric_only=True)"
   ]
  },
  {
   "cell_type": "code",
   "execution_count": 461,
   "id": "2bd57a48-3299-4065-8418-5c889b1f775f",
   "metadata": {},
   "outputs": [
    {
     "data": {
      "text/plain": [
       "49.36420023453947"
      ]
     },
     "execution_count": 461,
     "metadata": {},
     "output_type": "execute_result"
    }
   ],
   "source": [
    "school_df[\"Total Tested\"].mean()"
   ]
  },
  {
   "cell_type": "code",
   "execution_count": 462,
   "id": "be3fe7a3-3d02-4f0e-8ba5-7ea5bbbf98c0",
   "metadata": {},
   "outputs": [
    {
     "data": {
      "text/plain": [
       "20.0"
      ]
     },
     "execution_count": 462,
     "metadata": {},
     "output_type": "execute_result"
    }
   ],
   "source": [
    "school_df[\"Total Tested\"].median()"
   ]
  },
  {
   "cell_type": "code",
   "execution_count": 463,
   "id": "6e3f9962-5123-4671-970e-a189a70046bf",
   "metadata": {},
   "outputs": [
    {
     "data": {
      "text/plain": [
       "1729"
      ]
     },
     "execution_count": 463,
     "metadata": {},
     "output_type": "execute_result"
    }
   ],
   "source": [
    "school_df[\"Total Tested\"].max()"
   ]
  },
  {
   "cell_type": "code",
   "execution_count": 464,
   "id": "678af976-1b64-4d5a-8811-1ac2d5273131",
   "metadata": {},
   "outputs": [
    {
     "data": {
      "text/plain": [
       "1"
      ]
     },
     "execution_count": 464,
     "metadata": {},
     "output_type": "execute_result"
    }
   ],
   "source": [
    "school_df[\"Total Tested\"].min()"
   ]
  },
  {
   "cell_type": "code",
   "execution_count": 465,
   "id": "25f1c843-da32-41c6-9b1a-c30ec8e4bc01",
   "metadata": {},
   "outputs": [
    {
     "data": {
      "text/plain": [
       "School DBN                      0\n",
       "School Name                     0\n",
       "School Level                    0\n",
       "Regents Exam                   10\n",
       "Year                            0\n",
       "Total Tested                    0\n",
       "Mean Score                      0\n",
       "Number Scoring Below 65         0\n",
       "Percent Scoring Below 65        0\n",
       "Number Scoring 65 or Above      0\n",
       "Percent Scoring 65 or Above     0\n",
       "Number Scoring 80 or Above      0\n",
       "Percent Scoring 80 or Above     0\n",
       "Number Scoring CR               0\n",
       "Percent Scoring CR              0\n",
       "dtype: int64"
      ]
     },
     "execution_count": 465,
     "metadata": {},
     "output_type": "execute_result"
    }
   ],
   "source": [
    "school_df.isnull().sum()"
   ]
  },
  {
   "cell_type": "markdown",
   "id": "2669bc22-bab0-41c3-85ad-578d19f65b84",
   "metadata": {},
   "source": [
    "## Explore the Dataset"
   ]
  },
  {
   "cell_type": "code",
   "execution_count": 467,
   "id": "3e5b636c-024e-47b9-a01c-8e7895ef625e",
   "metadata": {},
   "outputs": [
    {
     "data": {
      "text/html": [
       "<div>\n",
       "<style scoped>\n",
       "    .dataframe tbody tr th:only-of-type {\n",
       "        vertical-align: middle;\n",
       "    }\n",
       "\n",
       "    .dataframe tbody tr th {\n",
       "        vertical-align: top;\n",
       "    }\n",
       "\n",
       "    .dataframe thead th {\n",
       "        text-align: right;\n",
       "    }\n",
       "</style>\n",
       "<table border=\"1\" class=\"dataframe\">\n",
       "  <thead>\n",
       "    <tr style=\"text-align: right;\">\n",
       "      <th></th>\n",
       "      <th>School DBN</th>\n",
       "      <th>School Name</th>\n",
       "      <th>School Level</th>\n",
       "      <th>Regents Exam</th>\n",
       "      <th>Year</th>\n",
       "      <th>Total Tested</th>\n",
       "      <th>Mean Score</th>\n",
       "      <th>Number Scoring Below 65</th>\n",
       "      <th>Percent Scoring Below 65</th>\n",
       "      <th>Number Scoring 65 or Above</th>\n",
       "      <th>Percent Scoring 65 or Above</th>\n",
       "      <th>Number Scoring 80 or Above</th>\n",
       "      <th>Percent Scoring 80 or Above</th>\n",
       "      <th>Number Scoring CR</th>\n",
       "      <th>Percent Scoring CR</th>\n",
       "    </tr>\n",
       "  </thead>\n",
       "  <tbody>\n",
       "    <tr>\n",
       "      <th>0</th>\n",
       "      <td>01M034</td>\n",
       "      <td>P.S. 034 Franklin D. Roosevelt</td>\n",
       "      <td>K-8</td>\n",
       "      <td>Common Core Algebra</td>\n",
       "      <td>2017</td>\n",
       "      <td>4</td>\n",
       "      <td>s</td>\n",
       "      <td>s</td>\n",
       "      <td>s</td>\n",
       "      <td>s</td>\n",
       "      <td>s</td>\n",
       "      <td>s</td>\n",
       "      <td>s</td>\n",
       "      <td>na</td>\n",
       "      <td>na</td>\n",
       "    </tr>\n",
       "    <tr>\n",
       "      <th>1</th>\n",
       "      <td>01M034</td>\n",
       "      <td>P.S. 034 Franklin D. Roosevelt</td>\n",
       "      <td>K-8</td>\n",
       "      <td>Living Environment</td>\n",
       "      <td>2015</td>\n",
       "      <td>16</td>\n",
       "      <td>77.9</td>\n",
       "      <td>1</td>\n",
       "      <td>6.3</td>\n",
       "      <td>15</td>\n",
       "      <td>93.8</td>\n",
       "      <td>7</td>\n",
       "      <td>43.8</td>\n",
       "      <td>na</td>\n",
       "      <td>na</td>\n",
       "    </tr>\n",
       "    <tr>\n",
       "      <th>2</th>\n",
       "      <td>01M034</td>\n",
       "      <td>P.S. 034 Franklin D. Roosevelt</td>\n",
       "      <td>K-8</td>\n",
       "      <td>Living Environment</td>\n",
       "      <td>2016</td>\n",
       "      <td>9</td>\n",
       "      <td>74</td>\n",
       "      <td>1</td>\n",
       "      <td>11.1</td>\n",
       "      <td>8</td>\n",
       "      <td>88.9</td>\n",
       "      <td>2</td>\n",
       "      <td>22.2</td>\n",
       "      <td>na</td>\n",
       "      <td>na</td>\n",
       "    </tr>\n",
       "  </tbody>\n",
       "</table>\n",
       "</div>"
      ],
      "text/plain": [
       "  School DBN                     School Name School Level  \\\n",
       "0     01M034  P.S. 034 Franklin D. Roosevelt          K-8   \n",
       "1     01M034  P.S. 034 Franklin D. Roosevelt          K-8   \n",
       "2     01M034  P.S. 034 Franklin D. Roosevelt          K-8   \n",
       "\n",
       "          Regents Exam  Year  Total Tested Mean Score Number Scoring Below 65  \\\n",
       "0  Common Core Algebra  2017             4          s                       s   \n",
       "1   Living Environment  2015            16       77.9                       1   \n",
       "2   Living Environment  2016             9         74                       1   \n",
       "\n",
       "  Percent Scoring Below 65 Number Scoring 65 or Above  \\\n",
       "0                        s                          s   \n",
       "1                      6.3                         15   \n",
       "2                     11.1                          8   \n",
       "\n",
       "  Percent Scoring 65 or Above Number Scoring 80 or Above  \\\n",
       "0                           s                          s   \n",
       "1                        93.8                          7   \n",
       "2                        88.9                          2   \n",
       "\n",
       "  Percent Scoring 80 or Above Number Scoring CR Percent Scoring CR  \n",
       "0                           s                na                 na  \n",
       "1                        43.8                na                 na  \n",
       "2                        22.2                na                 na  "
      ]
     },
     "execution_count": 467,
     "metadata": {},
     "output_type": "execute_result"
    }
   ],
   "source": [
    "school_df.head(3)"
   ]
  },
  {
   "cell_type": "code",
   "execution_count": 468,
   "id": "e36e16d3-760d-4dac-86eb-b0d9136b2f24",
   "metadata": {},
   "outputs": [
    {
     "data": {
      "text/plain": [
       "Regents Exam\n",
       "Algebra2/Trigonometry               364645\n",
       "Common Core Algebra                1568225\n",
       "Common Core Algebra2                295560\n",
       "Common Core English                1071595\n",
       "Common Core Geometry                730950\n",
       "English                             439705\n",
       "Geometry                            300675\n",
       "Global History and Geography       1435810\n",
       "Integrated Algebra                  362310\n",
       "Living Environment                 1416520\n",
       "Physical Settings/Chemistry         454495\n",
       "Physical Settings/Earth Science     625675\n",
       "Physical Settings/Physics           213650\n",
       "U.S. History and Government        1201285\n",
       "Name: Total Tested, dtype: int64"
      ]
     },
     "execution_count": 468,
     "metadata": {},
     "output_type": "execute_result"
    }
   ],
   "source": [
    "# Total number of students tested per exam\n",
    "school_df.groupby([\"Regents Exam\"])[\"Total Tested\"].sum()"
   ]
  },
  {
   "cell_type": "code",
   "execution_count": 469,
   "id": "4cfddd86-053e-408d-9330-3b495b6084f4",
   "metadata": {},
   "outputs": [
    {
     "data": {
      "text/plain": [
       "Regents Exam\n",
       "Algebra2/Trigonometry              10788\n",
       "Common Core Algebra                29254\n",
       "Common Core Algebra2                7915\n",
       "Common Core English                19878\n",
       "Common Core Geometry               15267\n",
       "English                            11091\n",
       "Geometry                            8509\n",
       "Global History and Geography       19192\n",
       "Integrated Algebra                 11022\n",
       "Living Environment                 25539\n",
       "Physical Settings/Chemistry        11670\n",
       "Physical Settings/Earth Science    15971\n",
       "Physical Settings/Physics           5799\n",
       "U.S. History and Government        20426\n",
       "Name: School DBN, dtype: int64"
      ]
     },
     "execution_count": 469,
     "metadata": {},
     "output_type": "execute_result"
    }
   ],
   "source": [
    "#Number of Schools (counted by DBN) conducting Regents Exams\n",
    "school_df.groupby([\"Regents Exam\"])[\"School DBN\"].count()"
   ]
  },
  {
   "cell_type": "code",
   "execution_count": 470,
   "id": "5e300d6b-0cea-4945-8980-871d8c5cb898",
   "metadata": {},
   "outputs": [
    {
     "data": {
      "text/plain": [
       "1992160"
      ]
     },
     "execution_count": 470,
     "metadata": {},
     "output_type": "execute_result"
    }
   ],
   "source": [
    "#Total Tested Sum for Manhattan Schools\n",
    "manhattan_schools = school_df[school_df[\"School DBN\"].str.contains(\"M\", na=False)] #contains M and is not NaN value\n",
    "manhattan_total_tested_sum = manhattan_schools[\"Total Tested\"].sum()\n",
    "manhattan_total_tested_sum"
   ]
  },
  {
   "cell_type": "code",
   "execution_count": 533,
   "id": "9e221260-dc04-469e-a7a6-a0cc880a799f",
   "metadata": {},
   "outputs": [
    {
     "data": {
      "text/plain": [
       "1928455"
      ]
     },
     "execution_count": 533,
     "metadata": {},
     "output_type": "execute_result"
    }
   ],
   "source": [
    "#Total Tested Sum for Bronx Schools\n",
    "bronx_schools = school_df[school_df[\"School DBN\"].str.contains(\"X\", na=False)] #contains M and is not NaN value\n",
    "bronx_schools_total_tested_sum = bronx_schools[\"Total Tested\"].sum()\n",
    "bronx_schools_total_tested_sum"
   ]
  },
  {
   "cell_type": "code",
   "execution_count": 535,
   "id": "fa7209d4-1a14-4a7a-b268-74eaae109552",
   "metadata": {},
   "outputs": [
    {
     "data": {
      "text/plain": [
       "3063555"
      ]
     },
     "execution_count": 535,
     "metadata": {},
     "output_type": "execute_result"
    }
   ],
   "source": [
    "#Total Tested Sum for Brooklyn Schools\n",
    "brooklyn_schools = school_df[school_df[\"School DBN\"].str.contains(\"K\", na=False)] #contains M and is not NaN value\n",
    "brooklyn_schools_total_tested_sum = brooklyn_schools[\"Total Tested\"].sum()\n",
    "brooklyn_schools_total_tested_sum"
   ]
  },
  {
   "cell_type": "code",
   "execution_count": 537,
   "id": "f768811e-d621-4b7a-8c51-4569e10b644f",
   "metadata": {},
   "outputs": [
    {
     "data": {
      "text/plain": [
       "2851720"
      ]
     },
     "execution_count": 537,
     "metadata": {},
     "output_type": "execute_result"
    }
   ],
   "source": [
    "#Total Tested Sum for Queens Schools\n",
    "queens_schools = school_df[school_df[\"School DBN\"].str.contains(\"Q\", na=False)] #contains M and is not NaN value\n",
    "queens_schools_total_tested_sum = queens_schools[\"Total Tested\"].sum()\n",
    "queens_schools_total_tested_sum"
   ]
  },
  {
   "cell_type": "code",
   "execution_count": 539,
   "id": "e6d4ea95-895a-4a3a-b29c-65b37253b5b8",
   "metadata": {},
   "outputs": [
    {
     "data": {
      "text/plain": [
       "645660"
      ]
     },
     "execution_count": 539,
     "metadata": {},
     "output_type": "execute_result"
    }
   ],
   "source": [
    "#Total Tested Sum for Staten Island Schools\n",
    "staten_schools = school_df[school_df[\"School DBN\"].str.contains(\"R\", na=False)] #contains M and is not NaN value\n",
    "staten_schools_total_tested_sum = staten_schools[\"Total Tested\"].sum()\n",
    "staten_schools_total_tested_sum"
   ]
  },
  {
   "cell_type": "markdown",
   "id": "e07051bf-7dd1-4243-933b-d977cad75405",
   "metadata": {},
   "source": [
    "## Data Cleaning"
   ]
  },
  {
   "cell_type": "code",
   "execution_count": 472,
   "id": "7745c9dc-f26e-46b8-a2d8-28b449b925b2",
   "metadata": {},
   "outputs": [],
   "source": [
    "#converting non-standard missing values into standard-one\n",
    "mising_values = ['s', 'na']\n",
    "school_df_stand=pd.read_csv('https://raw.githubusercontent.com/CunyLaguardiaDataAnalytics/datasets/master/2014-15_To_2016-17_School-_Level_NYC_Regents_Report_For_All_Variables.csv',\n",
    "               na_values=mising_values)"
   ]
  },
  {
   "cell_type": "code",
   "execution_count": 473,
   "id": "fe2e5093-54d1-49f2-87ab-7b9c20040811",
   "metadata": {},
   "outputs": [
    {
     "data": {
      "text/html": [
       "<div>\n",
       "<style scoped>\n",
       "    .dataframe tbody tr th:only-of-type {\n",
       "        vertical-align: middle;\n",
       "    }\n",
       "\n",
       "    .dataframe tbody tr th {\n",
       "        vertical-align: top;\n",
       "    }\n",
       "\n",
       "    .dataframe thead th {\n",
       "        text-align: right;\n",
       "    }\n",
       "</style>\n",
       "<table border=\"1\" class=\"dataframe\">\n",
       "  <thead>\n",
       "    <tr style=\"text-align: right;\">\n",
       "      <th></th>\n",
       "      <th>School DBN</th>\n",
       "      <th>School Name</th>\n",
       "      <th>School Level</th>\n",
       "      <th>Regents Exam</th>\n",
       "      <th>Year</th>\n",
       "      <th>Total Tested</th>\n",
       "      <th>Mean Score</th>\n",
       "      <th>Number Scoring Below 65</th>\n",
       "      <th>Percent Scoring Below 65</th>\n",
       "      <th>Number Scoring 65 or Above</th>\n",
       "      <th>Percent Scoring 65 or Above</th>\n",
       "      <th>Number Scoring 80 or Above</th>\n",
       "      <th>Percent Scoring 80 or Above</th>\n",
       "      <th>Number Scoring CR</th>\n",
       "      <th>Percent Scoring CR</th>\n",
       "    </tr>\n",
       "  </thead>\n",
       "  <tbody>\n",
       "    <tr>\n",
       "      <th>0</th>\n",
       "      <td>01M034</td>\n",
       "      <td>P.S. 034 Franklin D. Roosevelt</td>\n",
       "      <td>K-8</td>\n",
       "      <td>Common Core Algebra</td>\n",
       "      <td>2017</td>\n",
       "      <td>4</td>\n",
       "      <td>NaN</td>\n",
       "      <td>NaN</td>\n",
       "      <td>NaN</td>\n",
       "      <td>NaN</td>\n",
       "      <td>NaN</td>\n",
       "      <td>NaN</td>\n",
       "      <td>NaN</td>\n",
       "      <td>NaN</td>\n",
       "      <td>NaN</td>\n",
       "    </tr>\n",
       "    <tr>\n",
       "      <th>1</th>\n",
       "      <td>01M034</td>\n",
       "      <td>P.S. 034 Franklin D. Roosevelt</td>\n",
       "      <td>K-8</td>\n",
       "      <td>Living Environment</td>\n",
       "      <td>2015</td>\n",
       "      <td>16</td>\n",
       "      <td>77.9</td>\n",
       "      <td>1.0</td>\n",
       "      <td>6.3</td>\n",
       "      <td>15.0</td>\n",
       "      <td>93.8</td>\n",
       "      <td>7.0</td>\n",
       "      <td>43.8</td>\n",
       "      <td>NaN</td>\n",
       "      <td>NaN</td>\n",
       "    </tr>\n",
       "    <tr>\n",
       "      <th>2</th>\n",
       "      <td>01M034</td>\n",
       "      <td>P.S. 034 Franklin D. Roosevelt</td>\n",
       "      <td>K-8</td>\n",
       "      <td>Living Environment</td>\n",
       "      <td>2016</td>\n",
       "      <td>9</td>\n",
       "      <td>74.0</td>\n",
       "      <td>1.0</td>\n",
       "      <td>11.1</td>\n",
       "      <td>8.0</td>\n",
       "      <td>88.9</td>\n",
       "      <td>2.0</td>\n",
       "      <td>22.2</td>\n",
       "      <td>NaN</td>\n",
       "      <td>NaN</td>\n",
       "    </tr>\n",
       "  </tbody>\n",
       "</table>\n",
       "</div>"
      ],
      "text/plain": [
       "  School DBN                     School Name School Level  \\\n",
       "0     01M034  P.S. 034 Franklin D. Roosevelt          K-8   \n",
       "1     01M034  P.S. 034 Franklin D. Roosevelt          K-8   \n",
       "2     01M034  P.S. 034 Franklin D. Roosevelt          K-8   \n",
       "\n",
       "          Regents Exam  Year  Total Tested  Mean Score  \\\n",
       "0  Common Core Algebra  2017             4         NaN   \n",
       "1   Living Environment  2015            16        77.9   \n",
       "2   Living Environment  2016             9        74.0   \n",
       "\n",
       "   Number Scoring Below 65  Percent Scoring Below 65  \\\n",
       "0                      NaN                       NaN   \n",
       "1                      1.0                       6.3   \n",
       "2                      1.0                      11.1   \n",
       "\n",
       "   Number Scoring 65 or Above  Percent Scoring 65 or Above  \\\n",
       "0                         NaN                          NaN   \n",
       "1                        15.0                         93.8   \n",
       "2                         8.0                         88.9   \n",
       "\n",
       "   Number Scoring 80 or Above  Percent Scoring 80 or Above  Number Scoring CR  \\\n",
       "0                         NaN                          NaN                NaN   \n",
       "1                         7.0                         43.8                NaN   \n",
       "2                         2.0                         22.2                NaN   \n",
       "\n",
       "   Percent Scoring CR  \n",
       "0                 NaN  \n",
       "1                 NaN  \n",
       "2                 NaN  "
      ]
     },
     "execution_count": 473,
     "metadata": {},
     "output_type": "execute_result"
    }
   ],
   "source": [
    "school_df_stand.head(3)"
   ]
  },
  {
   "cell_type": "code",
   "execution_count": 474,
   "id": "339d2517-8f0b-41dd-8287-481f1ebd9e1c",
   "metadata": {},
   "outputs": [
    {
     "data": {
      "text/html": [
       "<div>\n",
       "<style scoped>\n",
       "    .dataframe tbody tr th:only-of-type {\n",
       "        vertical-align: middle;\n",
       "    }\n",
       "\n",
       "    .dataframe tbody tr th {\n",
       "        vertical-align: top;\n",
       "    }\n",
       "\n",
       "    .dataframe thead th {\n",
       "        text-align: right;\n",
       "    }\n",
       "</style>\n",
       "<table border=\"1\" class=\"dataframe\">\n",
       "  <thead>\n",
       "    <tr style=\"text-align: right;\">\n",
       "      <th></th>\n",
       "      <th>School DBN</th>\n",
       "      <th>School Name</th>\n",
       "      <th>School Level</th>\n",
       "      <th>Regents Exam</th>\n",
       "      <th>Year</th>\n",
       "      <th>Total Tested</th>\n",
       "      <th>Mean Score</th>\n",
       "      <th>Number Scoring Below 65</th>\n",
       "      <th>Percent Scoring Below 65</th>\n",
       "      <th>Number Scoring 65 or Above</th>\n",
       "      <th>Percent Scoring 65 or Above</th>\n",
       "      <th>Number Scoring 80 or Above</th>\n",
       "      <th>Percent Scoring 80 or Above</th>\n",
       "      <th>Number Scoring CR</th>\n",
       "      <th>Percent Scoring CR</th>\n",
       "    </tr>\n",
       "  </thead>\n",
       "  <tbody>\n",
       "    <tr>\n",
       "      <th>1</th>\n",
       "      <td>01M034</td>\n",
       "      <td>P.S. 034 Franklin D. Roosevelt</td>\n",
       "      <td>K-8</td>\n",
       "      <td>Living Environment</td>\n",
       "      <td>2015</td>\n",
       "      <td>16</td>\n",
       "      <td>77.9</td>\n",
       "      <td>1.0</td>\n",
       "      <td>6.3</td>\n",
       "      <td>15.0</td>\n",
       "      <td>93.8</td>\n",
       "      <td>7.0</td>\n",
       "      <td>43.8</td>\n",
       "      <td>NaN</td>\n",
       "      <td>NaN</td>\n",
       "    </tr>\n",
       "    <tr>\n",
       "      <th>2</th>\n",
       "      <td>01M034</td>\n",
       "      <td>P.S. 034 Franklin D. Roosevelt</td>\n",
       "      <td>K-8</td>\n",
       "      <td>Living Environment</td>\n",
       "      <td>2016</td>\n",
       "      <td>9</td>\n",
       "      <td>74.0</td>\n",
       "      <td>1.0</td>\n",
       "      <td>11.1</td>\n",
       "      <td>8.0</td>\n",
       "      <td>88.9</td>\n",
       "      <td>2.0</td>\n",
       "      <td>22.2</td>\n",
       "      <td>NaN</td>\n",
       "      <td>NaN</td>\n",
       "    </tr>\n",
       "    <tr>\n",
       "      <th>5</th>\n",
       "      <td>01M140</td>\n",
       "      <td>P.S. 140 Nathan Straus</td>\n",
       "      <td>K-8</td>\n",
       "      <td>Living Environment</td>\n",
       "      <td>2015</td>\n",
       "      <td>9</td>\n",
       "      <td>67.4</td>\n",
       "      <td>3.0</td>\n",
       "      <td>33.3</td>\n",
       "      <td>6.0</td>\n",
       "      <td>66.7</td>\n",
       "      <td>0.0</td>\n",
       "      <td>0.0</td>\n",
       "      <td>NaN</td>\n",
       "      <td>NaN</td>\n",
       "    </tr>\n",
       "  </tbody>\n",
       "</table>\n",
       "</div>"
      ],
      "text/plain": [
       "  School DBN                     School Name School Level        Regents Exam  \\\n",
       "1     01M034  P.S. 034 Franklin D. Roosevelt          K-8  Living Environment   \n",
       "2     01M034  P.S. 034 Franklin D. Roosevelt          K-8  Living Environment   \n",
       "5     01M140          P.S. 140 Nathan Straus          K-8  Living Environment   \n",
       "\n",
       "   Year  Total Tested  Mean Score  Number Scoring Below 65  \\\n",
       "1  2015            16        77.9                      1.0   \n",
       "2  2016             9        74.0                      1.0   \n",
       "5  2015             9        67.4                      3.0   \n",
       "\n",
       "   Percent Scoring Below 65  Number Scoring 65 or Above  \\\n",
       "1                       6.3                        15.0   \n",
       "2                      11.1                         8.0   \n",
       "5                      33.3                         6.0   \n",
       "\n",
       "   Percent Scoring 65 or Above  Number Scoring 80 or Above  \\\n",
       "1                         93.8                         7.0   \n",
       "2                         88.9                         2.0   \n",
       "5                         66.7                         0.0   \n",
       "\n",
       "   Percent Scoring 80 or Above  Number Scoring CR  Percent Scoring CR  \n",
       "1                         43.8                NaN                 NaN  \n",
       "2                         22.2                NaN                 NaN  \n",
       "5                          0.0                NaN                 NaN  "
      ]
     },
     "execution_count": 474,
     "metadata": {},
     "output_type": "execute_result"
    }
   ],
   "source": [
    "#drop rows with more than two NaN values\n",
    "school_df_cleaned = school_df_stand.dropna(thresh=school_df_stand.shape[1]-2)\n",
    "school_df_cleaned.head(3)"
   ]
  },
  {
   "cell_type": "code",
   "execution_count": 583,
   "id": "b871d5f7-5db9-432d-b856-dab71aeda524",
   "metadata": {},
   "outputs": [
    {
     "data": {
      "text/plain": [
       "(137109, 15)"
      ]
     },
     "execution_count": 583,
     "metadata": {},
     "output_type": "execute_result"
    }
   ],
   "source": [
    "school_df_cleaned.shape"
   ]
  },
  {
   "cell_type": "code",
   "execution_count": 475,
   "id": "7c01ff63-0c3a-460b-a0a5-f15c34633281",
   "metadata": {},
   "outputs": [
    {
     "data": {
      "text/html": [
       "<div>\n",
       "<style scoped>\n",
       "    .dataframe tbody tr th:only-of-type {\n",
       "        vertical-align: middle;\n",
       "    }\n",
       "\n",
       "    .dataframe tbody tr th {\n",
       "        vertical-align: top;\n",
       "    }\n",
       "\n",
       "    .dataframe thead th {\n",
       "        text-align: right;\n",
       "    }\n",
       "</style>\n",
       "<table border=\"1\" class=\"dataframe\">\n",
       "  <thead>\n",
       "    <tr style=\"text-align: right;\">\n",
       "      <th></th>\n",
       "      <th>School DBN</th>\n",
       "      <th>School Name</th>\n",
       "      <th>School Level</th>\n",
       "      <th>Regents Exam</th>\n",
       "      <th>Year</th>\n",
       "      <th>Total Tested</th>\n",
       "      <th>Mean Score</th>\n",
       "      <th>Number Scoring Below 65</th>\n",
       "      <th>Percent Scoring Below 65</th>\n",
       "      <th>Number Scoring 65 or Above</th>\n",
       "      <th>Percent Scoring 65 or Above</th>\n",
       "      <th>Number Scoring 80 or Above</th>\n",
       "      <th>Percent Scoring 80 or Above</th>\n",
       "      <th>Number Scoring CR</th>\n",
       "      <th>Percent Scoring CR</th>\n",
       "    </tr>\n",
       "  </thead>\n",
       "  <tbody>\n",
       "    <tr>\n",
       "      <th>0</th>\n",
       "      <td>01M034</td>\n",
       "      <td>P.S. 034 Franklin D. Roosevelt</td>\n",
       "      <td>K-8</td>\n",
       "      <td>Living Environment</td>\n",
       "      <td>2015</td>\n",
       "      <td>16</td>\n",
       "      <td>77.9</td>\n",
       "      <td>1.0</td>\n",
       "      <td>6.3</td>\n",
       "      <td>15.0</td>\n",
       "      <td>93.8</td>\n",
       "      <td>7.0</td>\n",
       "      <td>43.8</td>\n",
       "      <td>NaN</td>\n",
       "      <td>NaN</td>\n",
       "    </tr>\n",
       "    <tr>\n",
       "      <th>1</th>\n",
       "      <td>01M034</td>\n",
       "      <td>P.S. 034 Franklin D. Roosevelt</td>\n",
       "      <td>K-8</td>\n",
       "      <td>Living Environment</td>\n",
       "      <td>2016</td>\n",
       "      <td>9</td>\n",
       "      <td>74.0</td>\n",
       "      <td>1.0</td>\n",
       "      <td>11.1</td>\n",
       "      <td>8.0</td>\n",
       "      <td>88.9</td>\n",
       "      <td>2.0</td>\n",
       "      <td>22.2</td>\n",
       "      <td>NaN</td>\n",
       "      <td>NaN</td>\n",
       "    </tr>\n",
       "    <tr>\n",
       "      <th>2</th>\n",
       "      <td>01M140</td>\n",
       "      <td>P.S. 140 Nathan Straus</td>\n",
       "      <td>K-8</td>\n",
       "      <td>Living Environment</td>\n",
       "      <td>2015</td>\n",
       "      <td>9</td>\n",
       "      <td>67.4</td>\n",
       "      <td>3.0</td>\n",
       "      <td>33.3</td>\n",
       "      <td>6.0</td>\n",
       "      <td>66.7</td>\n",
       "      <td>0.0</td>\n",
       "      <td>0.0</td>\n",
       "      <td>NaN</td>\n",
       "      <td>NaN</td>\n",
       "    </tr>\n",
       "  </tbody>\n",
       "</table>\n",
       "</div>"
      ],
      "text/plain": [
       "  School DBN                     School Name School Level        Regents Exam  \\\n",
       "0     01M034  P.S. 034 Franklin D. Roosevelt          K-8  Living Environment   \n",
       "1     01M034  P.S. 034 Franklin D. Roosevelt          K-8  Living Environment   \n",
       "2     01M140          P.S. 140 Nathan Straus          K-8  Living Environment   \n",
       "\n",
       "   Year  Total Tested  Mean Score  Number Scoring Below 65  \\\n",
       "0  2015            16        77.9                      1.0   \n",
       "1  2016             9        74.0                      1.0   \n",
       "2  2015             9        67.4                      3.0   \n",
       "\n",
       "   Percent Scoring Below 65  Number Scoring 65 or Above  \\\n",
       "0                       6.3                        15.0   \n",
       "1                      11.1                         8.0   \n",
       "2                      33.3                         6.0   \n",
       "\n",
       "   Percent Scoring 65 or Above  Number Scoring 80 or Above  \\\n",
       "0                         93.8                         7.0   \n",
       "1                         88.9                         2.0   \n",
       "2                         66.7                         0.0   \n",
       "\n",
       "   Percent Scoring 80 or Above  Number Scoring CR  Percent Scoring CR  \n",
       "0                         43.8                NaN                 NaN  \n",
       "1                         22.2                NaN                 NaN  \n",
       "2                          0.0                NaN                 NaN  "
      ]
     },
     "execution_count": 475,
     "metadata": {},
     "output_type": "execute_result"
    }
   ],
   "source": [
    "#fix the index\n",
    "school_df_cleaned.reset_index(drop=True, inplace=True)\n",
    "school_df_cleaned.head(3)"
   ]
  },
  {
   "cell_type": "markdown",
   "id": "cfa5482d-502d-4151-ab1d-ae03285f161c",
   "metadata": {},
   "source": [
    "## Data Visualization "
   ]
  },
  {
   "cell_type": "code",
   "execution_count": 477,
   "id": "3cf9fa27-a63a-4c1e-b86c-efb07b4328c2",
   "metadata": {},
   "outputs": [
    {
     "data": {
      "text/plain": [
       "School DBN                      object\n",
       "School Name                     object\n",
       "School Level                    object\n",
       "Regents Exam                    object\n",
       "Year                             int64\n",
       "Total Tested                     int64\n",
       "Mean Score                     float64\n",
       "Number Scoring Below 65        float64\n",
       "Percent Scoring Below 65       float64\n",
       "Number Scoring 65 or Above     float64\n",
       "Percent Scoring 65 or Above    float64\n",
       "Number Scoring 80 or Above     float64\n",
       "Percent Scoring 80 or Above    float64\n",
       "Number Scoring CR              float64\n",
       "Percent Scoring CR             float64\n",
       "dtype: object"
      ]
     },
     "execution_count": 477,
     "metadata": {},
     "output_type": "execute_result"
    }
   ],
   "source": [
    "school_df_cleaned.dtypes"
   ]
  },
  {
   "cell_type": "code",
   "execution_count": 478,
   "id": "0b83f190-741c-44e4-9a55-1486879f7527",
   "metadata": {},
   "outputs": [
    {
     "data": {
      "text/plain": [
       "School DBN                         0\n",
       "School Name                        0\n",
       "School Level                       0\n",
       "Regents Exam                       8\n",
       "Year                               0\n",
       "Total Tested                       0\n",
       "Mean Score                         0\n",
       "Number Scoring Below 65            0\n",
       "Percent Scoring Below 65           0\n",
       "Number Scoring 65 or Above         0\n",
       "Percent Scoring 65 or Above        0\n",
       "Number Scoring 80 or Above         0\n",
       "Percent Scoring 80 or Above        0\n",
       "Number Scoring CR              67458\n",
       "Percent Scoring CR             67458\n",
       "dtype: int64"
      ]
     },
     "execution_count": 478,
     "metadata": {},
     "output_type": "execute_result"
    }
   ],
   "source": [
    "school_df_cleaned.isnull().sum()"
   ]
  },
  {
   "cell_type": "code",
   "execution_count": 479,
   "id": "e89f431e-d975-4bee-b6e9-73a4e4bfaef2",
   "metadata": {},
   "outputs": [
    {
     "data": {
      "text/plain": [
       "Regents Exam\n",
       "Algebra2/Trigonometry               5432\n",
       "Common Core Algebra                19549\n",
       "Common Core Algebra2                4358\n",
       "Common Core English                13319\n",
       "Common Core Geometry                9546\n",
       "English                             6784\n",
       "Geometry                            4347\n",
       "Global History and Geography       14713\n",
       "Integrated Algebra                  6308\n",
       "Living Environment                 18243\n",
       "Physical Settings/Chemistry         6360\n",
       "Physical Settings/Earth Science    10397\n",
       "Physical Settings/Physics           2993\n",
       "U.S. History and Government        14752\n",
       "Name: School DBN, dtype: int64"
      ]
     },
     "execution_count": 479,
     "metadata": {},
     "output_type": "execute_result"
    }
   ],
   "source": [
    "#Regents Exams offered by schools (how many schools offer each Exam)\n",
    "school_df_cleaned.groupby([\"Regents Exam\"])[\"School DBN\"].count()"
   ]
  },
  {
   "cell_type": "code",
   "execution_count": 585,
   "id": "a850bf6a-a65f-48b2-98fb-d18b3a5133b2",
   "metadata": {},
   "outputs": [],
   "source": [
    "#Filter only Algebra exams\n",
    "#01M448,University Neighborhood High School,High school\n",
    "school_df_algebra = school_df_cleaned[(school_df_cleaned[\"School DBN\"] == \"01M448\") \n",
    "& (school_df_cleaned[\"School Level\"] == \"High school\") \n",
    "& (school_df_cleaned[\"Regents Exam\"].str.contains(\"Algebra\", na=False))]"
   ]
  },
  {
   "cell_type": "code",
   "execution_count": 481,
   "id": "9727ea2c-133e-4554-82d3-5a4dde4cd94c",
   "metadata": {},
   "outputs": [],
   "source": [
    "#Fix the index\n",
    "school_df_algebra.reset_index(drop=True, inplace=True)"
   ]
  },
  {
   "cell_type": "code",
   "execution_count": 482,
   "id": "aa6c79cc-6e61-40b2-b849-a50f4b198f9b",
   "metadata": {},
   "outputs": [
    {
     "data": {
      "text/html": [
       "<div>\n",
       "<style scoped>\n",
       "    .dataframe tbody tr th:only-of-type {\n",
       "        vertical-align: middle;\n",
       "    }\n",
       "\n",
       "    .dataframe tbody tr th {\n",
       "        vertical-align: top;\n",
       "    }\n",
       "\n",
       "    .dataframe thead th {\n",
       "        text-align: right;\n",
       "    }\n",
       "</style>\n",
       "<table border=\"1\" class=\"dataframe\">\n",
       "  <thead>\n",
       "    <tr style=\"text-align: right;\">\n",
       "      <th></th>\n",
       "      <th>School DBN</th>\n",
       "      <th>School Name</th>\n",
       "      <th>School Level</th>\n",
       "      <th>Regents Exam</th>\n",
       "      <th>Year</th>\n",
       "      <th>Total Tested</th>\n",
       "      <th>Mean Score</th>\n",
       "      <th>Number Scoring Below 65</th>\n",
       "      <th>Percent Scoring Below 65</th>\n",
       "      <th>Number Scoring 65 or Above</th>\n",
       "      <th>Percent Scoring 65 or Above</th>\n",
       "      <th>Number Scoring 80 or Above</th>\n",
       "      <th>Percent Scoring 80 or Above</th>\n",
       "      <th>Number Scoring CR</th>\n",
       "      <th>Percent Scoring CR</th>\n",
       "    </tr>\n",
       "  </thead>\n",
       "  <tbody>\n",
       "    <tr>\n",
       "      <th>0</th>\n",
       "      <td>01M448</td>\n",
       "      <td>University Neighborhood High School</td>\n",
       "      <td>High school</td>\n",
       "      <td>Algebra2/Trigonometry</td>\n",
       "      <td>2015</td>\n",
       "      <td>45</td>\n",
       "      <td>62.2</td>\n",
       "      <td>21.0</td>\n",
       "      <td>46.7</td>\n",
       "      <td>24.0</td>\n",
       "      <td>53.3</td>\n",
       "      <td>10.0</td>\n",
       "      <td>22.2</td>\n",
       "      <td>10.0</td>\n",
       "      <td>22.2</td>\n",
       "    </tr>\n",
       "    <tr>\n",
       "      <th>1</th>\n",
       "      <td>01M448</td>\n",
       "      <td>University Neighborhood High School</td>\n",
       "      <td>High school</td>\n",
       "      <td>Algebra2/Trigonometry</td>\n",
       "      <td>2016</td>\n",
       "      <td>55</td>\n",
       "      <td>59.8</td>\n",
       "      <td>36.0</td>\n",
       "      <td>65.5</td>\n",
       "      <td>19.0</td>\n",
       "      <td>34.5</td>\n",
       "      <td>9.0</td>\n",
       "      <td>16.4</td>\n",
       "      <td>9.0</td>\n",
       "      <td>16.4</td>\n",
       "    </tr>\n",
       "    <tr>\n",
       "      <th>2</th>\n",
       "      <td>01M448</td>\n",
       "      <td>University Neighborhood High School</td>\n",
       "      <td>High school</td>\n",
       "      <td>Algebra2/Trigonometry</td>\n",
       "      <td>2017</td>\n",
       "      <td>11</td>\n",
       "      <td>58.6</td>\n",
       "      <td>8.0</td>\n",
       "      <td>72.7</td>\n",
       "      <td>3.0</td>\n",
       "      <td>27.3</td>\n",
       "      <td>1.0</td>\n",
       "      <td>9.1</td>\n",
       "      <td>1.0</td>\n",
       "      <td>9.1</td>\n",
       "    </tr>\n",
       "    <tr>\n",
       "      <th>3</th>\n",
       "      <td>01M448</td>\n",
       "      <td>University Neighborhood High School</td>\n",
       "      <td>High school</td>\n",
       "      <td>Common Core Algebra</td>\n",
       "      <td>2015</td>\n",
       "      <td>105</td>\n",
       "      <td>62.6</td>\n",
       "      <td>52.0</td>\n",
       "      <td>49.5</td>\n",
       "      <td>53.0</td>\n",
       "      <td>50.5</td>\n",
       "      <td>2.0</td>\n",
       "      <td>1.9</td>\n",
       "      <td>30.0</td>\n",
       "      <td>28.6</td>\n",
       "    </tr>\n",
       "    <tr>\n",
       "      <th>4</th>\n",
       "      <td>01M448</td>\n",
       "      <td>University Neighborhood High School</td>\n",
       "      <td>High school</td>\n",
       "      <td>Common Core Algebra</td>\n",
       "      <td>2016</td>\n",
       "      <td>148</td>\n",
       "      <td>68.2</td>\n",
       "      <td>42.0</td>\n",
       "      <td>28.4</td>\n",
       "      <td>106.0</td>\n",
       "      <td>71.6</td>\n",
       "      <td>19.0</td>\n",
       "      <td>12.8</td>\n",
       "      <td>74.0</td>\n",
       "      <td>50.0</td>\n",
       "    </tr>\n",
       "  </tbody>\n",
       "</table>\n",
       "</div>"
      ],
      "text/plain": [
       "  School DBN                          School Name School Level  \\\n",
       "0     01M448  University Neighborhood High School  High school   \n",
       "1     01M448  University Neighborhood High School  High school   \n",
       "2     01M448  University Neighborhood High School  High school   \n",
       "3     01M448  University Neighborhood High School  High school   \n",
       "4     01M448  University Neighborhood High School  High school   \n",
       "\n",
       "            Regents Exam  Year  Total Tested  Mean Score  \\\n",
       "0  Algebra2/Trigonometry  2015            45        62.2   \n",
       "1  Algebra2/Trigonometry  2016            55        59.8   \n",
       "2  Algebra2/Trigonometry  2017            11        58.6   \n",
       "3    Common Core Algebra  2015           105        62.6   \n",
       "4    Common Core Algebra  2016           148        68.2   \n",
       "\n",
       "   Number Scoring Below 65  Percent Scoring Below 65  \\\n",
       "0                     21.0                      46.7   \n",
       "1                     36.0                      65.5   \n",
       "2                      8.0                      72.7   \n",
       "3                     52.0                      49.5   \n",
       "4                     42.0                      28.4   \n",
       "\n",
       "   Number Scoring 65 or Above  Percent Scoring 65 or Above  \\\n",
       "0                        24.0                         53.3   \n",
       "1                        19.0                         34.5   \n",
       "2                         3.0                         27.3   \n",
       "3                        53.0                         50.5   \n",
       "4                       106.0                         71.6   \n",
       "\n",
       "   Number Scoring 80 or Above  Percent Scoring 80 or Above  Number Scoring CR  \\\n",
       "0                        10.0                         22.2               10.0   \n",
       "1                         9.0                         16.4                9.0   \n",
       "2                         1.0                          9.1                1.0   \n",
       "3                         2.0                          1.9               30.0   \n",
       "4                        19.0                         12.8               74.0   \n",
       "\n",
       "   Percent Scoring CR  \n",
       "0                22.2  \n",
       "1                16.4  \n",
       "2                 9.1  \n",
       "3                28.6  \n",
       "4                50.0  "
      ]
     },
     "execution_count": 482,
     "metadata": {},
     "output_type": "execute_result"
    }
   ],
   "source": [
    "school_df_algebra.head()"
   ]
  },
  {
   "cell_type": "code",
   "execution_count": 483,
   "id": "3772bc2c-859c-46a5-9180-e2890351f6c7",
   "metadata": {},
   "outputs": [
    {
     "name": "stdout",
     "output_type": "stream",
     "text": [
      "Year  Regents Exam         \n",
      "2015  Algebra2/Trigonometry     39.0\n",
      "      Common Core Algebra        8.0\n",
      "      Integrated Algebra        35.0\n",
      "2016  Algebra2/Trigonometry     36.0\n",
      "      Common Core Algebra       95.0\n",
      "      Common Core Algebra2       8.0\n",
      "      Integrated Algebra        13.0\n",
      "2017  Algebra2/Trigonometry      2.0\n",
      "      Common Core Algebra      244.0\n",
      "      Common Core Algebra2      24.0\n",
      "Name: Number Scoring 80 or Above, dtype: float64\n"
     ]
    }
   ],
   "source": [
    "#Yearly sum of students scoring 80 or above in (any) algebla exams\n",
    "yearly_sum = school_df_algebra.groupby([\"Year\", \"Regents Exam\"])[\"Number Scoring 80 or Above\"].sum()\n",
    "print(yearly_sum)"
   ]
  },
  {
   "cell_type": "code",
   "execution_count": 484,
   "id": "fad26930-f1c0-49f9-94b1-1d691de1a244",
   "metadata": {},
   "outputs": [
    {
     "data": {
      "image/png": "[encoded data removed]",
      "text/plain": [
       "<Figure size 1000x600 with 1 Axes>"
      ]
     },
     "metadata": {},
     "output_type": "display_data"
    }
   ],
   "source": [
    "#Comparison of Algebra Exam Scores 80 or above, by Year(2015, 2016, 1017)\n",
    "yearly_sum.plot(x=\"Regents Exam\", y=\"Number Scoring 80 or Above\", kind=\"bar\", figsize=(10, 6), \n",
    "                title=\"Comparison of Algebra Exam Scores 80 or above, by Year(2015, 2016, 1017)\");"
   ]
  },
  {
   "cell_type": "code",
   "execution_count": 485,
   "id": "da959b42-b987-4320-ae3b-23ef3fa50618",
   "metadata": {},
   "outputs": [],
   "source": [
    "#compare schools \n",
    "school_1 = school_df_cleaned[\n",
    "    (school_df_cleaned[\"School DBN\"] == \"01M448\") &\n",
    "    (school_df_cleaned[\"School Level\"] == \"High school\") &\n",
    "    (school_df_cleaned[\"Year\"] == 2017) &\n",
    "    (school_df_cleaned[\"Regents Exam\"].str.contains(\"Algebra\", na=False))\n",
    "]\n"
   ]
  },
  {
   "cell_type": "code",
   "execution_count": 486,
   "id": "00c8faaa-8be1-4d5f-ab0c-b34a9e1b8975",
   "metadata": {},
   "outputs": [
    {
     "name": "stdout",
     "output_type": "stream",
     "text": [
      "Regents Exam\n",
      "Algebra2/Trigonometry    174.8\n",
      "Common Core Algebra      793.6\n",
      "Common Core Algebra2     589.4\n",
      "Name: Mean Score, dtype: float64\n"
     ]
    }
   ],
   "source": [
    "school_1_sum = school_1.groupby([\"Regents Exam\"])[\"Mean Score\"].sum()\n",
    "print(school_1_sum)"
   ]
  },
  {
   "cell_type": "code",
   "execution_count": 487,
   "id": "b8acd877-9875-4034-be27-d3b8a9822b3e",
   "metadata": {},
   "outputs": [],
   "source": [
    "#compare schools \n",
    "school_2 = school_df_cleaned[\n",
    "    (school_df_cleaned[\"School DBN\"] == \"15K519\") &\n",
    "    (school_df_cleaned[\"School Level\"] == \"High school\") &\n",
    "    (school_df_cleaned[\"Year\"] == 2017) &\n",
    "    (school_df_cleaned[\"Regents Exam\"].str.contains(\"Algebra\", na=False))\n",
    "]\n"
   ]
  },
  {
   "cell_type": "code",
   "execution_count": 488,
   "id": "25ba14fa-74c7-4dba-9ff1-da27982494a9",
   "metadata": {},
   "outputs": [
    {
     "name": "stdout",
     "output_type": "stream",
     "text": [
      "Regents Exam\n",
      "Common Core Algebra     680.3\n",
      "Common Core Algebra2    387.1\n",
      "Name: Mean Score, dtype: float64\n"
     ]
    }
   ],
   "source": [
    "school_2_sum = school_2.groupby([\"Regents Exam\"])[\"Mean Score\"].sum()\n",
    "print(school_2_sum)"
   ]
  },
  {
   "cell_type": "code",
   "execution_count": 489,
   "id": "243e94b3-c008-46f8-8c00-3df7d16e7a6e",
   "metadata": {},
   "outputs": [],
   "source": [
    "#compare schools \n",
    "school_3 = school_df_cleaned[\n",
    "    (school_df_cleaned[\"School DBN\"] == \"28Q686\") &\n",
    "    (school_df_cleaned[\"School Level\"] == \"High school\") &\n",
    "    (school_df_cleaned[\"Year\"] == 2017) &\n",
    "    (school_df_cleaned[\"Regents Exam\"].str.contains(\"Algebra\", na=False))\n",
    "]\n"
   ]
  },
  {
   "cell_type": "code",
   "execution_count": 490,
   "id": "99e07bbb-9261-4ee4-b8f6-dbdc1def1a66",
   "metadata": {},
   "outputs": [
    {
     "name": "stdout",
     "output_type": "stream",
     "text": [
      "Regents Exam\n",
      "Common Core Algebra     822.1\n",
      "Common Core Algebra2    715.1\n",
      "Name: Mean Score, dtype: float64\n"
     ]
    }
   ],
   "source": [
    "school_3_sum = school_3.groupby([\"Regents Exam\"])[\"Mean Score\"].sum()\n",
    "print(school_3_sum)"
   ]
  },
  {
   "cell_type": "code",
   "execution_count": 491,
   "id": "1de318fb-dd20-42ff-ae27-4cb5eae28514",
   "metadata": {},
   "outputs": [],
   "source": [
    "#Combine results in one DataFrame\n",
    "schools_comparison = pd.DataFrame({\n",
    "    \"School 1 (01M448)\": school_1_sum,\n",
    "    \"School 2 (15K519)\": school_2_sum,\n",
    "    \"School 3 (28Q686)\": school_3_sum,\n",
    "})"
   ]
  },
  {
   "cell_type": "code",
   "execution_count": 492,
   "id": "aa013744-378b-4acb-9b20-e9f8fc0590a6",
   "metadata": {
    "scrolled": true
   },
   "outputs": [
    {
     "data": {
      "image/png": "[encoded data removed]",
      "text/plain": [
       "<Figure size 1000x600 with 1 Axes>"
      ]
     },
     "metadata": {},
     "output_type": "display_data"
    }
   ],
   "source": [
    "#Comparison of Algebra Exam Mean Scores foe 3 schools(2017)\n",
    "schools_comparison.plot(kind=\"bar\", figsize=(10, 6), title=\"Comparison of Algebra Exam Mean Scores (2017)\");"
   ]
  },
  {
   "cell_type": "code",
   "execution_count": null,
   "id": "12f3f666-0589-4330-8e75-fb31e5a3c98a",
   "metadata": {},
   "outputs": [],
   "source": [
    "#Compare the mean values of schools by borough"
   ]
  },
  {
   "cell_type": "code",
   "execution_count": 553,
   "id": "b9ec7153-8524-4f00-93be-d84deb5fbf71",
   "metadata": {},
   "outputs": [
    {
     "data": {
      "text/plain": [
       "2116265.8"
      ]
     },
     "execution_count": 553,
     "metadata": {},
     "output_type": "execute_result"
    }
   ],
   "source": [
    "#Sum of Mean Score for Manhattan Schools\n",
    "m_mean_score = school_df_cleaned[school_df_cleaned[\"School DBN\"].str.contains(\"M\", na=False)]\n",
    "m_mean_score_sum = m_mean_score[\"Mean Score\"].sum()\n",
    "m_mean_score_sum"
   ]
  },
  {
   "cell_type": "code",
   "execution_count": 551,
   "id": "ec778724-4923-45ca-bc80-ae77b7cfd242",
   "metadata": {},
   "outputs": [
    {
     "data": {
      "text/plain": [
       "2182350.6999999997"
      ]
     },
     "execution_count": 551,
     "metadata": {},
     "output_type": "execute_result"
    }
   ],
   "source": [
    "#Sum of Mean Score for Bronx Schools\n",
    "x_mean_score = school_df_cleaned[school_df_cleaned[\"School DBN\"].str.contains(\"X\", na=False)]\n",
    "x_mean_score_sum = x_mean_score[\"Mean Score\"].sum()\n",
    "x_mean_score_sum"
   ]
  },
  {
   "cell_type": "code",
   "execution_count": 557,
   "id": "62e9d3ab-1bbb-457c-a32d-9dc19857a38d",
   "metadata": {},
   "outputs": [
    {
     "data": {
      "text/plain": [
       "2508185.3"
      ]
     },
     "execution_count": 557,
     "metadata": {},
     "output_type": "execute_result"
    }
   ],
   "source": [
    "#Sum of Mean Score for Brooklyn Schools\n",
    "k_mean_score = school_df_cleaned[school_df_cleaned[\"School DBN\"].str.contains(\"K\", na=False)]\n",
    "k_mean_score_sum = k_mean_score[\"Mean Score\"].sum()\n",
    "k_mean_score_sum"
   ]
  },
  {
   "cell_type": "code",
   "execution_count": 561,
   "id": "068eb6c7-d852-4538-bca5-06cc2c433c5e",
   "metadata": {},
   "outputs": [
    {
     "data": {
      "text/plain": [
       "1920804.2000000002"
      ]
     },
     "execution_count": 561,
     "metadata": {},
     "output_type": "execute_result"
    }
   ],
   "source": [
    "#Sum of Mean Score for Queens Schools\n",
    "q_mean_score = school_df_cleaned[school_df_cleaned[\"School DBN\"].str.contains(\"Q\", na=False)]\n",
    "q_mean_score_sum = q_mean_score[\"Mean Score\"].sum()\n",
    "q_mean_score_sum"
   ]
  },
  {
   "cell_type": "code",
   "execution_count": 563,
   "id": "9c8ad188-c791-4cbe-b6b9-a5faea57d959",
   "metadata": {},
   "outputs": [
    {
     "data": {
      "text/plain": [
       "321446.3"
      ]
     },
     "execution_count": 563,
     "metadata": {},
     "output_type": "execute_result"
    }
   ],
   "source": [
    "#Sum of Mean Score for Staten Island Schools\n",
    "r_mean_score = school_df_cleaned[school_df_cleaned[\"School DBN\"].str.contains(\"R\", na=False)]\n",
    "r_mean_score_sum = r_mean_score[\"Mean Score\"].sum()\n",
    "r_mean_score_sum"
   ]
  },
  {
   "cell_type": "code",
   "execution_count": 567,
   "id": "b54fc4de-175e-4908-ad5b-42f3617158a5",
   "metadata": {},
   "outputs": [],
   "source": [
    "mean_value_series = pd.Series({\n",
    "    \"Manhattan\": m_mean_score_sum,\n",
    "    \"Bronx\": x_mean_score_sum,\n",
    "    \"Brooklyn\": k_mean_score_sum,\n",
    "    \"Queens\": q_mean_score_sum,\n",
    "    \"Staten Island\": r_mean_score_sum\n",
    "})"
   ]
  },
  {
   "cell_type": "code",
   "execution_count": 569,
   "id": "3d0c6c89-3712-4f63-8511-962f0e8cd9bf",
   "metadata": {},
   "outputs": [
    {
     "name": "stdout",
     "output_type": "stream",
     "text": [
      "Manhattan        2116265.8\n",
      "Bronx            2182350.7\n",
      "Brooklyn         2508185.3\n",
      "Queens           1920804.2\n",
      "Staten Island     321446.3\n",
      "dtype: float64\n"
     ]
    }
   ],
   "source": [
    "print(mean_value_series)"
   ]
  },
  {
   "cell_type": "code",
   "execution_count": 579,
   "id": "5a1b5b52-28b3-462f-8a13-4fa119a836fa",
   "metadata": {},
   "outputs": [
    {
     "data": {
      "image/png": "[encoded data removed]",
      "text/plain": [
       "<Figure size 640x480 with 1 Axes>"
      ]
     },
     "metadata": {},
     "output_type": "display_data"
    }
   ],
   "source": [
    "#Mean Score Sum by Borough\n",
    "mean_value_series.plot(kind=\"bar\", title=\"Mean Score Sum by Borough\");"
   ]
  },
  {
   "cell_type": "markdown",
   "id": "5930a9e6-bc60-47f5-80c4-cf617dea5c16",
   "metadata": {},
   "source": [
    "## Conclusion"
   ]
  },
  {
   "cell_type": "code",
   "execution_count": 589,
   "id": "26a67b2e-44a1-42f2-9a26-84183305036e",
   "metadata": {},
   "outputs": [],
   "source": [
    "#The database contains information about Regents exam results from schools in New York City's boroughs. \n",
    "\n",
    "#It consists of 212331 rows and 15 columns. After the data cleaning process, 75,222 rows were removed because they were not suitable for analysis.\n",
    "#Exams were conducted in 14 subjects, with the majority of students tested in Brooklyn, followed by Queens, Manhattan, the Bronx, and Staten Island.\n",
    "\n",
    "#Schools are not always tested on the same subject, and different numbers of people can be tested in different years, making analyses harder.\n",
    "#However, for the assignment, three schools were compared based on the number of students achieving an Algebra exam score of 80 or above(in the year 2017). \n",
    "#School 3 in Queens had the best results in both Algebra and Algebra 2, followed by School 1 in Manhattan, and School 2 in Brooklyn.\n",
    "\n",
    "#In the analysis of mean scores by borough, it was found that Brooklyn had the highest mean score, followed by the Bronx, Manhattan, Queens, and Staten Island.\n",
    "\n"
   ]
  },
  {
   "cell_type": "code",
   "execution_count": null,
   "id": "6d9ac856-9aae-4461-993e-449189c6a157",
   "metadata": {},
   "outputs": [],
   "source": []
  }
 ],
 "metadata": {
  "kernelspec": {
   "display_name": "Python [conda env:base] *",
   "language": "python",
   "name": "conda-base-py"
  },
  "language_info": {
   "codemirror_mode": {
    "name": "ipython",
    "version": 3
   },
   "file_extension": ".py",
   "mimetype": "text/x-python",
   "name": "python",
   "nbconvert_exporter": "python",
   "pygments_lexer": "ipython3",
   "version": "3.12.7"
  }
 },
 "nbformat": 4,
 "nbformat_minor": 5
}
